{
 "cells": [
  {
   "cell_type": "code",
   "execution_count": 13,
   "id": "edd7b3df",
   "metadata": {},
   "outputs": [],
   "source": [
    "import numpy as np\n",
    "import matplotlib.pyplot as plt"
   ]
  },
  {
   "cell_type": "markdown",
   "id": "491f3552",
   "metadata": {},
   "source": [
    "# INPUT:\n"
   ]
  },
  {
   "cell_type": "code",
   "execution_count": 14,
   "id": "b39a377d",
   "metadata": {},
   "outputs": [],
   "source": [
    "num_mirr = 2\n",
    "starting_ray = [0,0,7,7]                 #(x1,y1,x2,y2)\n",
    "Mirror_Locations = [[[0,5],[10,5]],[[5,4],[10,4]]]      #[[[x1,y1],[x2,y2]] , [x1,y1,x2,y2] , ......]"
   ]
  },
  {
   "cell_type": "code",
   "execution_count": 15,
   "id": "cacfe6f6",
   "metadata": {},
   "outputs": [],
   "source": [
    "rays = []\n",
    "pos = np.asarray(starting_ray[0:2])\n",
    "dirn = [ (starting_ray[2] - starting_ray[0]), (starting_ray[3] - starting_ray[1])]\n",
    "dirn_mag = np.sqrt(np.sum(list(i*i for i in dirn)))\n",
    "unit_dirn = np.asarray(list(i/dirn_mag for i in dirn))\n",
    "rays.append(np.asarray([pos , unit_dirn]))"
   ]
  },
  {
   "cell_type": "code",
   "execution_count": 16,
   "id": "5ed16547",
   "metadata": {},
   "outputs": [
    {
     "name": "stdout",
     "output_type": "stream",
     "text": [
      "[[0, 5], [10, 5]] \n",
      "\n",
      "[0 5]\n",
      "[[5, 4], [10, 4]] \n",
      "\n",
      "[5 4]\n"
     ]
    }
   ],
   "source": [
    "mirrors = []\n",
    "\n",
    "for Mirror in Mirror_Locations:\n",
    "    pos = np.asarray(Mirror[0])\n",
    "    dirn = np.asarray([ (Mirror[1][0] - Mirror[0][0]), (Mirror[1][1] - Mirror[0][1])])\n",
    "    dirn_mag = np.sqrt(np.sum(list(i*i for i in dirn)))\n",
    "    unit_dirn = np.asarray(list(i/dirn_mag for i in dirn))\n",
    "    mirrors.append(np.asarray([pos , unit_dirn, dirn_mag]))\n",
    "\n",
    "    print(Mirror,\"\\n\")\n",
    "    print(pos)\n"
   ]
  },
  {
   "cell_type": "code",
   "execution_count": 17,
   "id": "c0d2e7f4",
   "metadata": {},
   "outputs": [],
   "source": [
    " def do_reflection(ray, mirrors, intersections = None):\n",
    "        \n",
    "        \n",
    "    if intersections == None:\n",
    "        intersections = [ray[0]]\n",
    "    \n",
    "#     results = []\n",
    "    l = []\n",
    "    k = []\n",
    "    \n",
    "    for i in range(len(mirrors)):\n",
    "        mirr = mirrors[i]\n",
    "        \n",
    "#         print(mirr)                       #TEST\n",
    "\n",
    "        a = np.asarray([[ray[1][0],mirr[1][0]],[ray[1][1],mirr[1][1]]])\n",
    "\n",
    "        b = mirr[0]-ray[0]\n",
    "\n",
    "        x = np.linalg.solve(a,b)\n",
    "        \n",
    "        l.append(x[0])\n",
    "        k.append(-x[1])\n",
    "        \n",
    "        \n",
    "#     print(l)                                     #TEST\n",
    "#     print(k)                                     #test\n",
    "        \n",
    "    min_i = None\n",
    "    min_l = np.inf\n",
    "    \n",
    "    for i in range(len(mirrors)):\n",
    "        \n",
    "        mirr = mirrors[i]\n",
    "#         print(\"in loop\", k[i], l[i])\n",
    "        \n",
    "        if k[i]>0 and k[i]<mirr[2]:\n",
    "            \n",
    "#             print(\"if 1\")\n",
    "            \n",
    "            if l[i]>0:\n",
    "#                 print(\"if 1\")\n",
    "                \n",
    "                if l[i] < min_l:\n",
    "#                     print(\"if 1\")\n",
    "                    \n",
    "                    min_l = l[i]\n",
    "                    min_i = i\n",
    "                    \n",
    "#                     print(\"min updated\")\n",
    "    \n",
    "#     print(\"Chumma \",min_l,min_i)\n",
    "    \n",
    "    if min_i == None:\n",
    "        if ray[1][0] > 0:\n",
    "#             print(\"Hit x10... but where?\")                                    #WHEREEEE??????\n",
    "            \n",
    "            a = np.asarray([[ray[1][0], 0],[ray[1][1], 1]])\n",
    "\n",
    "            b = np.array([10,0]) - ray[0]\n",
    "\n",
    "            x = np.linalg.solve(a,b)\n",
    "\n",
    "            l = x[0]\n",
    "            \n",
    "            final_pos = ray[0]+l*ray[1]\n",
    "            \n",
    "#             print(a,b,x,l, sep=\"\\n\")\n",
    "\n",
    "            intersections.append(final_pos)\n",
    "            \n",
    "            return final_pos, intersections  \n",
    "    \n",
    "            \n",
    "        else:\n",
    "            print(\"None broo  \", ray )                                #Chanhe to None\n",
    "            \n",
    "    else:\n",
    "        intersection_point = ray[0] + min_l * ray[1]\n",
    "        \n",
    "        intersections.append(intersection_point)\n",
    "        \n",
    "        normal = np.array([[0,-1],[1,0]]) @ mirrors[min_i][1] \n",
    "        \n",
    "        u = ray[1]\n",
    "        \n",
    "        v = u - 2*(np.dot(u,normal))*normal\n",
    "        \n",
    "        reflected_ray = [intersection_point, v]\n",
    "        \n",
    "        return do_reflection( reflected_ray, mirrors, intersections )\n",
    "        \n",
    "#         results.append(mirr, ray, l, k)"
   ]
  },
  {
   "cell_type": "code",
   "execution_count": 18,
   "id": "e91acae9",
   "metadata": {
    "scrolled": true
   },
   "outputs": [
    {
     "name": "stdout",
     "output_type": "stream",
     "text": [
      "final point is at [10.  4.]\n"
     ]
    },
    {
     "data": {
      "image/png": "[encoded data removed]",
      "text/plain": [
       "<Figure size 432x288 with 1 Axes>"
      ]
     },
     "metadata": {
      "needs_background": "light"
     },
     "output_type": "display_data"
    }
   ],
   "source": [
    "\n",
    "final_point, intersections = do_reflection(rays[0],mirrors)\n",
    "\n",
    "# for point in intersetions:\n",
    "x_coords = list(point[0] for point in intersections)\n",
    "y_coords = list(point[1] for point in intersections)\n",
    "\n",
    "plt.plot(x_coords,y_coords)\n",
    "plt.xticks(np.arange(0,11,1))\n",
    "plt.ylim(0,20)\n",
    "\n",
    "print(\"final point is at\" ,final_point)"
   ]
  },
  {
   "cell_type": "code",
   "execution_count": null,
   "id": "328de75e",
   "metadata": {},
   "outputs": [],
   "source": []
  },
  {
   "cell_type": "code",
   "execution_count": null,
   "id": "a4516db0",
   "metadata": {},
   "outputs": [],
   "source": []
  },
  {
   "cell_type": "code",
   "execution_count": null,
   "id": "e350f29a",
   "metadata": {},
   "outputs": [],
   "source": []
  },
  {
   "cell_type": "code",
   "execution_count": null,
   "id": "767d4e4f",
   "metadata": {},
   "outputs": [],
   "source": []
  },
  {
   "cell_type": "markdown",
   "id": "5aa8dd7a",
   "metadata": {},
   "source": [
    "# Testing only"
   ]
  },
  {
   "cell_type": "code",
   "execution_count": 238,
   "id": "e71e48c1",
   "metadata": {},
   "outputs": [
    {
     "data": {
      "text/plain": [
       "[array([5., 5.]),\n",
       " array([6., 4.]),\n",
       " array([7., 5.]),\n",
       " array([8., 4.]),\n",
       " array([9., 5.]),\n",
       " array([10.,  4.])]"
      ]
     },
     "execution_count": 238,
     "metadata": {},
     "output_type": "execute_result"
    }
   ],
   "source": [
    "intersections"
   ]
  },
  {
   "cell_type": "code",
   "execution_count": null,
   "id": "14b7d953",
   "metadata": {},
   "outputs": [],
   "source": []
  },
  {
   "cell_type": "code",
   "execution_count": null,
   "id": "1d094f9b",
   "metadata": {},
   "outputs": [],
   "source": []
  },
  {
   "cell_type": "code",
   "execution_count": null,
   "id": "6a1fcad2",
   "metadata": {},
   "outputs": [],
   "source": []
  },
  {
   "cell_type": "code",
   "execution_count": 5,
   "id": "d518fef4",
   "metadata": {},
   "outputs": [
    {
     "data": {
      "text/plain": [
       "[0, 0]"
      ]
     },
     "execution_count": 5,
     "metadata": {},
     "output_type": "execute_result"
    }
   ],
   "source": [
    "starting_ray[0:2]"
   ]
  },
  {
   "cell_type": "code",
   "execution_count": 80,
   "id": "2b1998d8",
   "metadata": {},
   "outputs": [
    {
     "name": "stdout",
     "output_type": "stream",
     "text": [
      "[array([[0.        , 0.        ],\n",
      "       [0.70710678, 0.70710678]])]\n"
     ]
    }
   ],
   "source": [
    "print(rays)"
   ]
  },
  {
   "cell_type": "code",
   "execution_count": 81,
   "id": "3f5a3a4e",
   "metadata": {},
   "outputs": [
    {
     "name": "stdout",
     "output_type": "stream",
     "text": [
      "[array([array([0, 5]), array([1., 0.]), 10.0], dtype=object)]\n"
     ]
    }
   ],
   "source": [
    "print(mirrors)"
   ]
  },
  {
   "cell_type": "code",
   "execution_count": 79,
   "id": "e4a2059c",
   "metadata": {},
   "outputs": [
    {
     "data": {
      "text/plain": [
       "array([0., 0.])"
      ]
     },
     "execution_count": 79,
     "metadata": {},
     "output_type": "execute_result"
    }
   ],
   "source": [
    "ray[0]"
   ]
  },
  {
   "cell_type": "code",
   "execution_count": 83,
   "id": "dc8fd022",
   "metadata": {},
   "outputs": [
    {
     "data": {
      "text/plain": [
       "array([ 7.07106781, -5.        ])"
      ]
     },
     "execution_count": 83,
     "metadata": {},
     "output_type": "execute_result"
    }
   ],
   "source": [
    "x"
   ]
  },
  {
   "cell_type": "code",
   "execution_count": 84,
   "id": "17ffceab",
   "metadata": {},
   "outputs": [
    {
     "data": {
      "text/plain": [
       "array([[0.70710678, 1.        ],\n",
       "       [0.70710678, 0.        ]])"
      ]
     },
     "execution_count": 84,
     "metadata": {},
     "output_type": "execute_result"
    }
   ],
   "source": [
    "a"
   ]
  },
  {
   "cell_type": "code",
   "execution_count": 85,
   "id": "5a48b1ae",
   "metadata": {},
   "outputs": [
    {
     "data": {
      "text/plain": [
       "array([0., 5.])"
      ]
     },
     "execution_count": 85,
     "metadata": {},
     "output_type": "execute_result"
    }
   ],
   "source": [
    "b"
   ]
  },
  {
   "cell_type": "code",
   "execution_count": 78,
   "id": "539929d2",
   "metadata": {},
   "outputs": [
    {
     "data": {
      "text/plain": [
       "array([0, 5])"
      ]
     },
     "execution_count": 78,
     "metadata": {},
     "output_type": "execute_result"
    }
   ],
   "source": [
    "mirr[0]"
   ]
  },
  {
   "cell_type": "code",
   "execution_count": 160,
   "id": "b73c80ab",
   "metadata": {},
   "outputs": [
    {
     "data": {
      "text/plain": [
       "[array([array([0, 5]), array([1., 0.]), 10.0], dtype=object),\n",
       " array([array([5, 4]), array([1., 0.]), 5.0], dtype=object)]"
      ]
     },
     "execution_count": 160,
     "metadata": {},
     "output_type": "execute_result"
    }
   ],
   "source": [
    "mirrors"
   ]
  },
  {
   "cell_type": "code",
   "execution_count": 110,
   "id": "75fcac55",
   "metadata": {},
   "outputs": [
    {
     "ename": "ValueError",
     "evalue": "Axes must be different.",
     "output_type": "error",
     "traceback": [
      "\u001b[1;31m---------------------------------------------------------------------------\u001b[0m",
      "\u001b[1;31mValueError\u001b[0m                                Traceback (most recent call last)",
      "\u001b[1;32m~\\AppData\\Local\\Temp/ipykernel_16248/1016407110.py\u001b[0m in \u001b[0;36m<module>\u001b[1;34m\u001b[0m\n\u001b[1;32m----> 1\u001b[1;33m \u001b[0mnp\u001b[0m\u001b[1;33m.\u001b[0m\u001b[0mrot90\u001b[0m\u001b[1;33m(\u001b[0m\u001b[0mnp\u001b[0m\u001b[1;33m.\u001b[0m\u001b[0marray\u001b[0m\u001b[1;33m(\u001b[0m\u001b[1;33m[\u001b[0m\u001b[1;36m0\u001b[0m\u001b[1;33m,\u001b[0m\u001b[1;36m1\u001b[0m\u001b[1;33m]\u001b[0m\u001b[1;33m)\u001b[0m\u001b[1;33m)\u001b[0m\u001b[1;33m\u001b[0m\u001b[1;33m\u001b[0m\u001b[0m\n\u001b[0m",
      "\u001b[1;32m<__array_function__ internals>\u001b[0m in \u001b[0;36mrot90\u001b[1;34m(*args, **kwargs)\u001b[0m\n",
      "\u001b[1;32m~\\Anaconda\\anaconda3\\lib\\site-packages\\numpy\\lib\\function_base.py\u001b[0m in \u001b[0;36mrot90\u001b[1;34m(m, k, axes)\u001b[0m\n\u001b[0;32m    119\u001b[0m \u001b[1;33m\u001b[0m\u001b[0m\n\u001b[0;32m    120\u001b[0m     \u001b[1;32mif\u001b[0m \u001b[0maxes\u001b[0m\u001b[1;33m[\u001b[0m\u001b[1;36m0\u001b[0m\u001b[1;33m]\u001b[0m \u001b[1;33m==\u001b[0m \u001b[0maxes\u001b[0m\u001b[1;33m[\u001b[0m\u001b[1;36m1\u001b[0m\u001b[1;33m]\u001b[0m \u001b[1;32mor\u001b[0m \u001b[0mabsolute\u001b[0m\u001b[1;33m(\u001b[0m\u001b[0maxes\u001b[0m\u001b[1;33m[\u001b[0m\u001b[1;36m0\u001b[0m\u001b[1;33m]\u001b[0m \u001b[1;33m-\u001b[0m \u001b[0maxes\u001b[0m\u001b[1;33m[\u001b[0m\u001b[1;36m1\u001b[0m\u001b[1;33m]\u001b[0m\u001b[1;33m)\u001b[0m \u001b[1;33m==\u001b[0m \u001b[0mm\u001b[0m\u001b[1;33m.\u001b[0m\u001b[0mndim\u001b[0m\u001b[1;33m:\u001b[0m\u001b[1;33m\u001b[0m\u001b[1;33m\u001b[0m\u001b[0m\n\u001b[1;32m--> 121\u001b[1;33m         \u001b[1;32mraise\u001b[0m \u001b[0mValueError\u001b[0m\u001b[1;33m(\u001b[0m\u001b[1;34m\"Axes must be different.\"\u001b[0m\u001b[1;33m)\u001b[0m\u001b[1;33m\u001b[0m\u001b[1;33m\u001b[0m\u001b[0m\n\u001b[0m\u001b[0;32m    122\u001b[0m \u001b[1;33m\u001b[0m\u001b[0m\n\u001b[0;32m    123\u001b[0m     if (axes[0] >= m.ndim or axes[0] < -m.ndim\n",
      "\u001b[1;31mValueError\u001b[0m: Axes must be different."
     ]
    }
   ],
   "source": [
    "np.rot90(np.array([0,1]))"
   ]
  },
  {
   "cell_type": "code",
   "execution_count": 161,
   "id": "23f8b281",
   "metadata": {},
   "outputs": [
    {
     "data": {
      "text/plain": [
       "[array([[0.        , 0.        ],\n",
       "        [0.70710678, 0.70710678]])]"
      ]
     },
     "execution_count": 161,
     "metadata": {},
     "output_type": "execute_result"
    }
   ],
   "source": [
    "rays"
   ]
  },
  {
   "cell_type": "code",
   "execution_count": null,
   "id": "d2c65bb1",
   "metadata": {},
   "outputs": [],
   "source": []
  }
 ],
 "metadata": {
  "kernelspec": {
   "display_name": "Python 3 (ipykernel)",
   "language": "python",
   "name": "python3"
  },
  "language_info": {
   "codemirror_mode": {
    "name": "ipython",
    "version": 3
   },
   "file_extension": ".py",
   "mimetype": "text/x-python",
   "name": "python",
   "nbconvert_exporter": "python",
   "pygments_lexer": "ipython3",
   "version": "3.9.7"
  }
 },
 "nbformat": 4,
 "nbformat_minor": 5
}
