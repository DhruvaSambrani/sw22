{
 "cells": [
  {
   "cell_type": "code",
   "execution_count": 27,
   "id": "144bfcfd",
   "metadata": {},
   "outputs": [],
   "source": [
    "import numpy as np"
   ]
  },
  {
   "cell_type": "code",
   "execution_count": 31,
   "id": "805e9fc1",
   "metadata": {},
   "outputs": [],
   "source": [
    "x1 = 0\n",
    "x2 = 10\n",
    "\n",
    "v1 = 10                  #Input\n",
    "v2 = 0\n",
    "\n",
    "m1 = 0.1                  #Input\n",
    "m2 = 1                  #Input"
   ]
  },
  {
   "cell_type": "code",
   "execution_count": 32,
   "id": "3aebcad6",
   "metadata": {},
   "outputs": [
    {
     "name": "stdout",
     "output_type": "stream",
     "text": [
      "0 0 10 10 0\n",
      "0.0 1.0\n",
      "1 0 -10 10 0\n",
      "inf -1.0\n",
      "1\n"
     ]
    }
   ],
   "source": [
    "num_coll = 0\n",
    "\n",
    "while True:\n",
    "    \n",
    "    print(num_coll, x1, v1, x2, v2)\n",
    "    \n",
    "    if v1>0:\n",
    "        tc1 = -x1/v1\n",
    "    \n",
    "    else:\n",
    "        tc1 = np.inf\n",
    "        \n",
    "    if v1-v2 != 0:\n",
    "        tc2 = (x2-x1)/(v1-v2)\n",
    "        \n",
    "    else:\n",
    "        tc2 = np.inf\n",
    "    \n",
    "    print(tc1,tc2)\n",
    "    \n",
    "    if (tc1<0 or tc1 == np.inf) and (tc2<0 or tc2 == np.inf):\n",
    "        break\n",
    "    \n",
    "    if tc1 < tc2:# and tc1 > 0:\n",
    "        x1 = 0\n",
    "        v1 = -v1\n",
    "        \n",
    "        num_coll += 1\n",
    "        \n",
    "        continue\n",
    "        \n",
    "    if tc2 < tc1:# and tc2 > 0 :\n",
    "        u1 = v1\n",
    "        u2 = v2\n",
    "        \n",
    "        v1 = (2*m2*u2 + u1*(m1-m2))/(m1+m2)\n",
    "        v2 = (2*m1*u1 + u2*(m2-m1))/(m1+m2)\n",
    "        \n",
    "        x1 = x1 + u1 * tc2\n",
    "        x2 = x2 + u2 * tc2\n",
    "        \n",
    "        num_coll += 1\n",
    "        \n",
    "        continue\n",
    "            \n",
    "    \n",
    "    if tc1 == tc2:\n",
    "        x1 = 0\n",
    "        v1 = -v1\n",
    "        \n",
    "        x2 = 0\n",
    "        v2 = -v2\n",
    "        \n",
    "        num_coll += 1\n",
    "        \n",
    "        continue\n",
    "    \n",
    "    \n",
    "    \n",
    "print(num_coll)"
   ]
  },
  {
   "cell_type": "code",
   "execution_count": 7,
   "id": "5634c6df",
   "metadata": {},
   "outputs": [
    {
     "data": {
      "text/plain": [
       "True"
      ]
     },
     "execution_count": 7,
     "metadata": {},
     "output_type": "execute_result"
    }
   ],
   "source": [
    "np.inf == np.inf"
   ]
  },
  {
   "cell_type": "code",
   "execution_count": null,
   "id": "a81a8ece",
   "metadata": {},
   "outputs": [],
   "source": []
  },
  {
   "cell_type": "code",
   "execution_count": null,
   "id": "365695a8",
   "metadata": {},
   "outputs": [],
   "source": []
  },
  {
   "cell_type": "code",
   "execution_count": null,
   "id": "020c2276",
   "metadata": {},
   "outputs": [],
   "source": []
  },
  {
   "cell_type": "code",
   "execution_count": null,
   "id": "92e00abb",
   "metadata": {},
   "outputs": [],
   "source": []
  },
  {
   "cell_type": "code",
   "execution_count": null,
   "id": "edf2dedb",
   "metadata": {},
   "outputs": [],
   "source": []
  },
  {
   "cell_type": "code",
   "execution_count": null,
   "id": "5793cff5",
   "metadata": {},
   "outputs": [],
   "source": []
  },
  {
   "cell_type": "code",
   "execution_count": null,
   "id": "093148a3",
   "metadata": {},
   "outputs": [],
   "source": []
  },
  {
   "cell_type": "code",
   "execution_count": null,
   "id": "f09a8e8d",
   "metadata": {},
   "outputs": [],
   "source": []
  }
 ],
 "metadata": {
  "kernelspec": {
   "display_name": "Python 3 (ipykernel)",
   "language": "python",
   "name": "python3"
  },
  "language_info": {
   "codemirror_mode": {
    "name": "ipython",
    "version": 3
   },
   "file_extension": ".py",
   "mimetype": "text/x-python",
   "name": "python",
   "nbconvert_exporter": "python",
   "pygments_lexer": "ipython3",
   "version": "3.9.7"
  }
 },
 "nbformat": 4,
 "nbformat_minor": 5
}
